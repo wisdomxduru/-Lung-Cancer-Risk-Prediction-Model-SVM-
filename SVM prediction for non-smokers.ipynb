{
 "cells": [
  {
   "cell_type": "markdown",
   "id": "bd3081b0-e148-49a9-a27c-79a02a48e176",
   "metadata": {},
   "source": [
    "**Import libraries**"
   ]
  },
  {
   "cell_type": "code",
   "execution_count": 2,
   "id": "807834ff-e88c-4d02-9130-919935e92250",
   "metadata": {},
   "outputs": [],
   "source": [
    "import pandas as pd\n",
    "import matplotlib.pyplot as plt\n",
    "import pandas as pd\n",
    "from sklearn.model_selection import train_test_split, GridSearchCV\n",
    "from sklearn.preprocessing import StandardScaler, LabelEncoder\n",
    "from sklearn.svm import SVC\n",
    "from sklearn.decomposition import PCA\n",
    "from sklearn.cluster import KMeans\n",
    "import seaborn as sns"
   ]
  },
  {
   "cell_type": "markdown",
   "id": "8d9d1e13-7c2d-49de-9e19-36a146d6721a",
   "metadata": {},
   "source": [
    "**Load Dataset**"
   ]
  },
  {
   "cell_type": "code",
   "execution_count": 4,
   "id": "c750cbc6-988e-4f08-8b3a-cd0f905954ef",
   "metadata": {
    "scrolled": true
   },
   "outputs": [
    {
     "name": "stdout",
     "output_type": "stream",
     "text": [
      "<class 'pandas.core.frame.DataFrame'>\n",
      "RangeIndex: 240 entries, 0 to 239\n",
      "Data columns (total 24 columns):\n",
      " #   Column                           Non-Null Count  Dtype  \n",
      "---  ------                           --------------  -----  \n",
      " 0    Study ID                        240 non-null    object \n",
      " 1   Patient ID                       240 non-null    object \n",
      " 2   Sample ID                        240 non-null    object \n",
      " 3   Diagnosis Age                    240 non-null    int64  \n",
      " 4   Cancer Type                      240 non-null    object \n",
      " 5   Cancer Type Detailed             240 non-null    object \n",
      " 6   Durable Clinical Benefit         240 non-null    object \n",
      " 7   FGA                              240 non-null    float64\n",
      " 8   Fraction Genome Altered          240 non-null    float64\n",
      " 9   Gene Panel                       240 non-null    object \n",
      " 10  IRB                              240 non-null    object \n",
      " 11  Lines of treatment               240 non-null    int64  \n",
      " 12  Mutation Count                   240 non-null    int64  \n",
      " 13  Mutation Rate                    240 non-null    float64\n",
      " 14  Oncotree Code                    240 non-null    object \n",
      " 15  PD-L1 Score (%)                  86 non-null     float64\n",
      " 16  Progress Free Survival (Months)  240 non-null    float64\n",
      " 17  Progression Free Status          240 non-null    object \n",
      " 18  Number of Samples Per Patient    240 non-null    int64  \n",
      " 19  Sex                              240 non-null    object \n",
      " 20  Smoker                           240 non-null    object \n",
      " 21  Somatic Status                   240 non-null    object \n",
      " 22  TMB (nonsynonymous)              240 non-null    float64\n",
      " 23  Treatment Type                   240 non-null    object \n",
      "dtypes: float64(6), int64(4), object(14)\n",
      "memory usage: 45.1+ KB\n"
     ]
    },
    {
     "data": {
      "text/html": [
       "<div>\n",
       "<style scoped>\n",
       "    .dataframe tbody tr th:only-of-type {\n",
       "        vertical-align: middle;\n",
       "    }\n",
       "\n",
       "    .dataframe tbody tr th {\n",
       "        vertical-align: top;\n",
       "    }\n",
       "\n",
       "    .dataframe thead th {\n",
       "        text-align: right;\n",
       "    }\n",
       "</style>\n",
       "<table border=\"1\" class=\"dataframe\">\n",
       "  <thead>\n",
       "    <tr style=\"text-align: right;\">\n",
       "      <th></th>\n",
       "      <th>Study ID</th>\n",
       "      <th>Patient ID</th>\n",
       "      <th>Sample ID</th>\n",
       "      <th>Diagnosis Age</th>\n",
       "      <th>Cancer Type</th>\n",
       "      <th>Cancer Type Detailed</th>\n",
       "      <th>Durable Clinical Benefit</th>\n",
       "      <th>FGA</th>\n",
       "      <th>Fraction Genome Altered</th>\n",
       "      <th>Gene Panel</th>\n",
       "      <th>...</th>\n",
       "      <th>Oncotree Code</th>\n",
       "      <th>PD-L1 Score (%)</th>\n",
       "      <th>Progress Free Survival (Months)</th>\n",
       "      <th>Progression Free Status</th>\n",
       "      <th>Number of Samples Per Patient</th>\n",
       "      <th>Sex</th>\n",
       "      <th>Smoker</th>\n",
       "      <th>Somatic Status</th>\n",
       "      <th>TMB (nonsynonymous)</th>\n",
       "      <th>Treatment Type</th>\n",
       "    </tr>\n",
       "  </thead>\n",
       "  <tbody>\n",
       "    <tr>\n",
       "      <th>0</th>\n",
       "      <td>nsclc_pd1_msk_2018</td>\n",
       "      <td>P-0000012</td>\n",
       "      <td>P-0000012-T03-IM3</td>\n",
       "      <td>58</td>\n",
       "      <td>Non-Small Cell Lung Cancer</td>\n",
       "      <td>Lung Adenocarcinoma</td>\n",
       "      <td>YES</td>\n",
       "      <td>0.18</td>\n",
       "      <td>0.1844</td>\n",
       "      <td>IMPACT341</td>\n",
       "      <td>...</td>\n",
       "      <td>LUAD</td>\n",
       "      <td>NaN</td>\n",
       "      <td>27.20</td>\n",
       "      <td>0:Not Progressed</td>\n",
       "      <td>1</td>\n",
       "      <td>Female</td>\n",
       "      <td>Ever</td>\n",
       "      <td>Matched</td>\n",
       "      <td>32.165504</td>\n",
       "      <td>Combination</td>\n",
       "    </tr>\n",
       "    <tr>\n",
       "      <th>1</th>\n",
       "      <td>nsclc_pd1_msk_2018</td>\n",
       "      <td>P-0000082</td>\n",
       "      <td>P-0000082-T01-IM3</td>\n",
       "      <td>60</td>\n",
       "      <td>Non-Small Cell Lung Cancer</td>\n",
       "      <td>Lung Adenocarcinoma</td>\n",
       "      <td>YES</td>\n",
       "      <td>0.36</td>\n",
       "      <td>0.3606</td>\n",
       "      <td>IMPACT341</td>\n",
       "      <td>...</td>\n",
       "      <td>LUAD</td>\n",
       "      <td>100.0</td>\n",
       "      <td>14.50</td>\n",
       "      <td>1:Progressed</td>\n",
       "      <td>1</td>\n",
       "      <td>Male</td>\n",
       "      <td>Ever</td>\n",
       "      <td>Matched</td>\n",
       "      <td>1.109155</td>\n",
       "      <td>Monotherapy</td>\n",
       "    </tr>\n",
       "    <tr>\n",
       "      <th>2</th>\n",
       "      <td>nsclc_pd1_msk_2018</td>\n",
       "      <td>P-0000208</td>\n",
       "      <td>P-0000208-T01-IM3</td>\n",
       "      <td>68</td>\n",
       "      <td>Non-Small Cell Lung Cancer</td>\n",
       "      <td>Lung Adenocarcinoma</td>\n",
       "      <td>NO</td>\n",
       "      <td>0.12</td>\n",
       "      <td>0.1173</td>\n",
       "      <td>IMPACT341</td>\n",
       "      <td>...</td>\n",
       "      <td>LUAD</td>\n",
       "      <td>3.0</td>\n",
       "      <td>4.17</td>\n",
       "      <td>1:Progressed</td>\n",
       "      <td>1</td>\n",
       "      <td>Female</td>\n",
       "      <td>Ever</td>\n",
       "      <td>Matched</td>\n",
       "      <td>2.218311</td>\n",
       "      <td>Monotherapy</td>\n",
       "    </tr>\n",
       "    <tr>\n",
       "      <th>3</th>\n",
       "      <td>nsclc_pd1_msk_2018</td>\n",
       "      <td>P-0000235</td>\n",
       "      <td>P-0000235-T01-IM3</td>\n",
       "      <td>77</td>\n",
       "      <td>Non-Small Cell Lung Cancer</td>\n",
       "      <td>Lung Squamous Cell Carcinoma</td>\n",
       "      <td>NO</td>\n",
       "      <td>0.24</td>\n",
       "      <td>0.2380</td>\n",
       "      <td>IMPACT341</td>\n",
       "      <td>...</td>\n",
       "      <td>LUSC</td>\n",
       "      <td>NaN</td>\n",
       "      <td>0.60</td>\n",
       "      <td>1:Progressed</td>\n",
       "      <td>1</td>\n",
       "      <td>Male</td>\n",
       "      <td>Ever</td>\n",
       "      <td>Matched</td>\n",
       "      <td>8.873242</td>\n",
       "      <td>Monotherapy</td>\n",
       "    </tr>\n",
       "    <tr>\n",
       "      <th>4</th>\n",
       "      <td>nsclc_pd1_msk_2018</td>\n",
       "      <td>P-0000299</td>\n",
       "      <td>P-0000299-T01-IM3</td>\n",
       "      <td>66</td>\n",
       "      <td>Non-Small Cell Lung Cancer</td>\n",
       "      <td>Large Cell Neuroendocrine Carcinoma</td>\n",
       "      <td>NO</td>\n",
       "      <td>0.01</td>\n",
       "      <td>0.0051</td>\n",
       "      <td>IMPACT341</td>\n",
       "      <td>...</td>\n",
       "      <td>LUNE</td>\n",
       "      <td>NaN</td>\n",
       "      <td>1.63</td>\n",
       "      <td>1:Progressed</td>\n",
       "      <td>1</td>\n",
       "      <td>Male</td>\n",
       "      <td>Ever</td>\n",
       "      <td>Matched</td>\n",
       "      <td>7.764087</td>\n",
       "      <td>Combination</td>\n",
       "    </tr>\n",
       "  </tbody>\n",
       "</table>\n",
       "<p>5 rows × 24 columns</p>\n",
       "</div>"
      ],
      "text/plain": [
       "             Study ID Patient ID          Sample ID  Diagnosis Age  \\\n",
       "0  nsclc_pd1_msk_2018  P-0000012  P-0000012-T03-IM3             58   \n",
       "1  nsclc_pd1_msk_2018  P-0000082  P-0000082-T01-IM3             60   \n",
       "2  nsclc_pd1_msk_2018  P-0000208  P-0000208-T01-IM3             68   \n",
       "3  nsclc_pd1_msk_2018  P-0000235  P-0000235-T01-IM3             77   \n",
       "4  nsclc_pd1_msk_2018  P-0000299  P-0000299-T01-IM3             66   \n",
       "\n",
       "                  Cancer Type                 Cancer Type Detailed  \\\n",
       "0  Non-Small Cell Lung Cancer                  Lung Adenocarcinoma   \n",
       "1  Non-Small Cell Lung Cancer                  Lung Adenocarcinoma   \n",
       "2  Non-Small Cell Lung Cancer                  Lung Adenocarcinoma   \n",
       "3  Non-Small Cell Lung Cancer         Lung Squamous Cell Carcinoma   \n",
       "4  Non-Small Cell Lung Cancer  Large Cell Neuroendocrine Carcinoma   \n",
       "\n",
       "  Durable Clinical Benefit   FGA  Fraction Genome Altered Gene Panel  ...  \\\n",
       "0                      YES  0.18                   0.1844  IMPACT341  ...   \n",
       "1                      YES  0.36                   0.3606  IMPACT341  ...   \n",
       "2                       NO  0.12                   0.1173  IMPACT341  ...   \n",
       "3                       NO  0.24                   0.2380  IMPACT341  ...   \n",
       "4                       NO  0.01                   0.0051  IMPACT341  ...   \n",
       "\n",
       "  Oncotree Code  PD-L1 Score (%)  Progress Free Survival (Months)  \\\n",
       "0          LUAD              NaN                            27.20   \n",
       "1          LUAD            100.0                            14.50   \n",
       "2          LUAD              3.0                             4.17   \n",
       "3          LUSC              NaN                             0.60   \n",
       "4          LUNE              NaN                             1.63   \n",
       "\n",
       "   Progression Free Status Number of Samples Per Patient     Sex  Smoker  \\\n",
       "0         0:Not Progressed                             1  Female    Ever   \n",
       "1             1:Progressed                             1    Male    Ever   \n",
       "2             1:Progressed                             1  Female    Ever   \n",
       "3             1:Progressed                             1    Male    Ever   \n",
       "4             1:Progressed                             1    Male    Ever   \n",
       "\n",
       "  Somatic Status  TMB (nonsynonymous) Treatment Type  \n",
       "0        Matched            32.165504    Combination  \n",
       "1        Matched             1.109155    Monotherapy  \n",
       "2        Matched             2.218311    Monotherapy  \n",
       "3        Matched             8.873242    Monotherapy  \n",
       "4        Matched             7.764087    Combination  \n",
       "\n",
       "[5 rows x 24 columns]"
      ]
     },
     "execution_count": 4,
     "metadata": {},
     "output_type": "execute_result"
    }
   ],
   "source": [
    "dataset = pd.read_csv(r'C:\\Users\\Wisdom Duru\\Downloads\\nsclc_pd1_msk_2018_clinical_data.csv')\n",
    "dataset.info()\n",
    "dataset.head()"
   ]
  },
  {
   "cell_type": "markdown",
   "id": "41c67f81-074f-4feb-ada6-a4baa5f610c4",
   "metadata": {},
   "source": [
    "**Filter Non-Smokers and select key Genetic Features from dataset**"
   ]
  },
  {
   "cell_type": "code",
   "execution_count": 6,
   "id": "76e19670-ba54-4746-9375-af3c2fa4c4f4",
   "metadata": {},
   "outputs": [],
   "source": [
    "# Filter for non-smokers\n",
    "non_smokers_dataset = dataset[dataset[\"Smoker\"] == \"Never\"].copy()"
   ]
  },
  {
   "cell_type": "code",
   "execution_count": 7,
   "id": "f3c9f0d9-f239-4a39-87d9-d361b8be38de",
   "metadata": {},
   "outputs": [
    {
     "data": {
      "image/png": "[encoded data removed]",
      "text/plain": [
       "<Figure size 600x400 with 1 Axes>"
      ]
     },
     "metadata": {},
     "output_type": "display_data"
    }
   ],
   "source": [
    "# Plot distribution of Cancer Type Detailed in non-smokers\n",
    "plt.figure(figsize=(6, 4))\n",
    "non_smokers_dataset[\"Cancer Type Detailed\"].value_counts().plot(kind=\"bar\", color=[\"skyblue\", \"salmon\"])\n",
    "plt.xlabel(\"Cancer Type Detailed\")\n",
    "plt.ylabel(\"Count\")\n",
    "plt.title(\"Distribution of Cancer Types in Non-Smokers\")\n",
    "plt.xticks(rotation=45)\n",
    "plt.show()\n"
   ]
  },
  {
   "cell_type": "code",
   "execution_count": 8,
   "id": "636085d4-6593-49dc-b927-9cf793627f8c",
   "metadata": {
    "scrolled": true
   },
   "outputs": [
    {
     "data": {
      "text/html": [
       "<div>\n",
       "<style scoped>\n",
       "    .dataframe tbody tr th:only-of-type {\n",
       "        vertical-align: middle;\n",
       "    }\n",
       "\n",
       "    .dataframe tbody tr th {\n",
       "        vertical-align: top;\n",
       "    }\n",
       "\n",
       "    .dataframe thead th {\n",
       "        text-align: right;\n",
       "    }\n",
       "</style>\n",
       "<table border=\"1\" class=\"dataframe\">\n",
       "  <thead>\n",
       "    <tr style=\"text-align: right;\">\n",
       "      <th></th>\n",
       "      <th>TMB (nonsynonymous)</th>\n",
       "      <th>Mutation Count</th>\n",
       "      <th>Fraction Genome Altered</th>\n",
       "      <th>Cancer Type Detailed</th>\n",
       "    </tr>\n",
       "  </thead>\n",
       "  <tbody>\n",
       "    <tr>\n",
       "      <th>count</th>\n",
       "      <td>47.000000</td>\n",
       "      <td>47.000000</td>\n",
       "      <td>47.000000</td>\n",
       "      <td>47</td>\n",
       "    </tr>\n",
       "    <tr>\n",
       "      <th>unique</th>\n",
       "      <td>NaN</td>\n",
       "      <td>NaN</td>\n",
       "      <td>NaN</td>\n",
       "      <td>2</td>\n",
       "    </tr>\n",
       "    <tr>\n",
       "      <th>top</th>\n",
       "      <td>NaN</td>\n",
       "      <td>NaN</td>\n",
       "      <td>NaN</td>\n",
       "      <td>Lung Adenocarcinoma</td>\n",
       "    </tr>\n",
       "    <tr>\n",
       "      <th>freq</th>\n",
       "      <td>NaN</td>\n",
       "      <td>NaN</td>\n",
       "      <td>NaN</td>\n",
       "      <td>41</td>\n",
       "    </tr>\n",
       "    <tr>\n",
       "      <th>mean</th>\n",
       "      <td>4.472212</td>\n",
       "      <td>4.489362</td>\n",
       "      <td>0.168219</td>\n",
       "      <td>NaN</td>\n",
       "    </tr>\n",
       "    <tr>\n",
       "      <th>std</th>\n",
       "      <td>2.852997</td>\n",
       "      <td>2.819747</td>\n",
       "      <td>0.177442</td>\n",
       "      <td>NaN</td>\n",
       "    </tr>\n",
       "    <tr>\n",
       "      <th>min</th>\n",
       "      <td>0.978720</td>\n",
       "      <td>1.000000</td>\n",
       "      <td>0.000000</td>\n",
       "      <td>NaN</td>\n",
       "    </tr>\n",
       "    <tr>\n",
       "      <th>25%</th>\n",
       "      <td>2.936159</td>\n",
       "      <td>3.000000</td>\n",
       "      <td>0.028550</td>\n",
       "      <td>NaN</td>\n",
       "    </tr>\n",
       "    <tr>\n",
       "      <th>50%</th>\n",
       "      <td>3.914879</td>\n",
       "      <td>4.000000</td>\n",
       "      <td>0.131400</td>\n",
       "      <td>NaN</td>\n",
       "    </tr>\n",
       "    <tr>\n",
       "      <th>75%</th>\n",
       "      <td>5.366983</td>\n",
       "      <td>6.000000</td>\n",
       "      <td>0.276750</td>\n",
       "      <td>NaN</td>\n",
       "    </tr>\n",
       "    <tr>\n",
       "      <th>max</th>\n",
       "      <td>13.702076</td>\n",
       "      <td>14.000000</td>\n",
       "      <td>0.774800</td>\n",
       "      <td>NaN</td>\n",
       "    </tr>\n",
       "  </tbody>\n",
       "</table>\n",
       "</div>"
      ],
      "text/plain": [
       "        TMB (nonsynonymous)  Mutation Count  Fraction Genome Altered  \\\n",
       "count             47.000000       47.000000                47.000000   \n",
       "unique                  NaN             NaN                      NaN   \n",
       "top                     NaN             NaN                      NaN   \n",
       "freq                    NaN             NaN                      NaN   \n",
       "mean               4.472212        4.489362                 0.168219   \n",
       "std                2.852997        2.819747                 0.177442   \n",
       "min                0.978720        1.000000                 0.000000   \n",
       "25%                2.936159        3.000000                 0.028550   \n",
       "50%                3.914879        4.000000                 0.131400   \n",
       "75%                5.366983        6.000000                 0.276750   \n",
       "max               13.702076       14.000000                 0.774800   \n",
       "\n",
       "       Cancer Type Detailed  \n",
       "count                    47  \n",
       "unique                    2  \n",
       "top     Lung Adenocarcinoma  \n",
       "freq                     41  \n",
       "mean                    NaN  \n",
       "std                     NaN  \n",
       "min                     NaN  \n",
       "25%                     NaN  \n",
       "50%                     NaN  \n",
       "75%                     NaN  \n",
       "max                     NaN  "
      ]
     },
     "execution_count": 8,
     "metadata": {},
     "output_type": "execute_result"
    }
   ],
   "source": [
    "# Select relevant genetic alteration features\n",
    "genetic_features = [\"TMB (nonsynonymous)\", \"Mutation Count\", \"Fraction Genome Altered\", \"Cancer Type Detailed\"]\n",
    "\n",
    "# Summary statistics for risk threshold determination\n",
    "non_smokers_dataset[genetic_features].describe(include =\"all\")"
   ]
  },
  {
   "cell_type": "markdown",
   "id": "04f9a297-efa2-444e-a4fd-334d1bbe7d25",
   "metadata": {},
   "source": [
    "**Define Levels of Risks**"
   ]
  },
  {
   "cell_type": "code",
   "execution_count": 10,
   "id": "2e5879d4-fa63-41fc-8369-3770bf369972",
   "metadata": {},
   "outputs": [
    {
     "data": {
      "text/plain": [
       "Risk Level\n",
       "1.0    22\n",
       "0.5    22\n",
       "0.0     3\n",
       "Name: count, dtype: int64"
      ]
     },
     "execution_count": 10,
     "metadata": {},
     "output_type": "execute_result"
    }
   ],
   "source": [
    "# Define new risk categories: High Risk (1), Medium Risk (0.5), Low Risk (0)\n",
    "def classify_risk(row):\n",
    "    if row[\"Cancer Type Detailed\"] == \"Lung Adenocarcinoma\":\n",
    "        if (row[\"TMB (nonsynonymous)\"] >= 5.37) or (row[\"Mutation Count\"] >= 6) or (row[\"Fraction Genome Altered\"] >= 0.28):\n",
    "            return 1  # High Risk: LUAD + high genetic markers\n",
    "        else:\n",
    "            return 0.5  # Medium Risk: LUAD but without high genetic markers\n",
    "    else:\n",
    "        return int(\n",
    "            (row[\"TMB (nonsynonymous)\"] >= 5.37) or \n",
    "            (row[\"Mutation Count\"] >= 6) or \n",
    "            (row[\"Fraction Genome Altered\"] >= 0.28)\n",
    "        )\n",
    "\n",
    "# Apply the new classification\n",
    "non_smokers_dataset[\"Risk Level\"] = non_smokers_dataset.apply(classify_risk, axis=1)\n",
    "\n",
    "# Check distribution of new risk levels\n",
    "non_smokers_dataset[\"Risk Level\"].value_counts()\n",
    "\n"
   ]
  },
  {
   "cell_type": "code",
   "execution_count": 11,
   "id": "dd91d34d-8199-41a6-855e-0075e4599b62",
   "metadata": {
    "scrolled": true
   },
   "outputs": [
    {
     "name": "stderr",
     "output_type": "stream",
     "text": [
      "C:\\Users\\Wisdom Duru\\AppData\\Local\\Temp\\ipykernel_15872\\2007551338.py:6: FutureWarning: \n",
      "\n",
      "Passing `palette` without assigning `hue` is deprecated and will be removed in v0.14.0. Assign the `x` variable to `hue` and set `legend=False` for the same effect.\n",
      "\n",
      "  sns.boxplot(x=non_smokers_dataset[\"Risk Level\"], y=non_smokers_dataset[\"Diagnosis Age\"], palette=\"coolwarm\")\n"
     ]
    },
    {
     "data": {
      "image/png": "[encoded data removed]",
      "text/plain": [
       "<Figure size 600x400 with 1 Axes>"
      ]
     },
     "metadata": {},
     "output_type": "display_data"
    },
    {
     "data": {
      "image/png": "[encoded data removed]",
      "text/plain": [
       "<Figure size 600x400 with 1 Axes>"
      ]
     },
     "metadata": {},
     "output_type": "display_data"
    }
   ],
   "source": [
    "# Set plot style\n",
    "sns.set(style=\"whitegrid\")\n",
    "\n",
    "# 🔹 Boxplot: Age vs. Risk Level\n",
    "plt.figure(figsize=(6, 4))\n",
    "sns.boxplot(x=non_smokers_dataset[\"Risk Level\"], y=non_smokers_dataset[\"Diagnosis Age\"], palette=\"coolwarm\")\n",
    "plt.xlabel(\"Risk Level\")\n",
    "plt.ylabel(\"Age\")\n",
    "plt.title(\"Age Distribution Across Risk Levels\")\n",
    "plt.show()\n",
    "\n",
    "# 🔹 Bar Chart: Gender vs. Risk Level\n",
    "plt.figure(figsize=(6, 4))\n",
    "sns.countplot(x=non_smokers_dataset[\"Risk Level\"], hue=non_smokers_dataset[\"Sex\"], palette=\"coolwarm\")\n",
    "plt.xlabel(\"Risk Level\")\n",
    "plt.ylabel(\"Count\")\n",
    "plt.title(\"Gender Distribution Across Risk Levels\")\n",
    "plt.legend(title=\"Sex\")\n",
    "plt.show()"
   ]
  },
  {
   "cell_type": "markdown",
   "id": "7edda860-4140-4a2c-b9c9-3389359a16c5",
   "metadata": {},
   "source": [
    "**Visualizing the Major features**"
   ]
  },
  {
   "cell_type": "code",
   "execution_count": null,
   "id": "3f5ec2ed-df97-4344-b939-51176c763b6e",
   "metadata": {
    "scrolled": true
   },
   "outputs": [
    {
     "name": "stderr",
     "output_type": "stream",
     "text": [
      "C:\\Users\\Wisdom Duru\\AppData\\Local\\Temp\\ipykernel_15872\\3570384045.py:12: FutureWarning: \n",
      "\n",
      "Passing `palette` without assigning `hue` is deprecated and will be removed in v0.14.0. Assign the `x` variable to `hue` and set `legend=False` for the same effect.\n",
      "\n",
      "  sns.boxplot(x=non_smokers_dataset[\"Risk Level\"], y=non_smokers_dataset[feature], ax=axes[i], palette=\"coolwarm\")\n",
      "C:\\Users\\Wisdom Duru\\AppData\\Local\\Temp\\ipykernel_15872\\3570384045.py:12: FutureWarning: \n",
      "\n",
      "Passing `palette` without assigning `hue` is deprecated and will be removed in v0.14.0. Assign the `x` variable to `hue` and set `legend=False` for the same effect.\n",
      "\n",
      "  sns.boxplot(x=non_smokers_dataset[\"Risk Level\"], y=non_smokers_dataset[feature], ax=axes[i], palette=\"coolwarm\")\n"
     ]
    }
   ],
   "source": [
    "# Select top most important features\n",
    "top_features = [\"Fraction Genome Altered\", \"Mutation Count\", \"Mutation Rate\",\"TMB (nonsynonymous)\"]\n",
    "\n",
    "# Set plot style\n",
    "sns.set(style=\"whitegrid\")\n",
    "\n",
    "# Create subplots for boxplots (feature vs. risk level)\n",
    "fig, axes = plt.subplots(1, 4, figsize=(20, 5))\n",
    "\n",
    "# Generate boxplots\n",
    "for i, feature in enumerate(top_features):\n",
    "    sns.boxplot(x=non_smokers_dataset[\"Risk Level\"], y=non_smokers_dataset[feature], ax=axes[i], palette=\"coolwarm\")\n",
    "    axes[i].set_title(f\"{feature} vs. Risk Level\")\n",
    "    axes[i].set_xlabel(\"Risk Level\")\n",
    "    axes[i].set_ylabel(feature)\n",
    "\n",
    "plt.tight_layout()\n",
    "plt.show()"
   ]
  },
  {
   "cell_type": "code",
   "execution_count": null,
   "id": "f75052be-6e51-4ccd-aa3f-7d1d5ed53da9",
   "metadata": {
    "scrolled": true
   },
   "outputs": [],
   "source": [
    "# Plot distribution of Risk Levels\n",
    "plt.figure(figsize=(6, 4))\n",
    "non_smokers_dataset[\"Risk Level\"].value_counts().sort_index().plot(kind=\"bar\", color=[\"lightgreen\", \"gold\", \"red\"])\n",
    "plt.xlabel(\"Risk Level\")\n",
    "plt.ylabel(\"Count\")\n",
    "plt.title(\"Distribution of Risk Levels in Non-Smokers\")\n",
    "plt.xticks(ticks=[0, 1, 2], labels=[\"Low Risk (0.0)\", \"Medium Risk (0.5)\", \"High Risk (1.0)\"], rotation=45)\n",
    "plt.show()\n"
   ]
  },
  {
   "cell_type": "markdown",
   "id": "c0e6903b-7290-400b-ab00-c0732a6ce536",
   "metadata": {},
   "source": [
    "**Feature Scaling**"
   ]
  },
  {
   "cell_type": "code",
   "execution_count": null,
   "id": "f02afe06-882d-44a1-bc54-b5617f73d50a",
   "metadata": {},
   "outputs": [],
   "source": [
    "# Ensure 'Cancer Type Detailed' is encoded properly\n",
    "non_smokers_dataset[\"Cancer_Type_Encoded\"] = LabelEncoder().fit_transform(non_smokers_dataset[\"Cancer Type Detailed\"])"
   ]
  },
  {
   "cell_type": "code",
   "execution_count": null,
   "id": "2ee23d29-bdf3-4847-8e32-e4f5f6c551bc",
   "metadata": {},
   "outputs": [],
   "source": [
    "# Create interaction terms\n",
    "non_smokers_dataset[\"Mutation_FGA_Interaction\"] = non_smokers_dataset[\"Mutation Count\"] * non_smokers_dataset[\"Fraction Genome Altered\"]\n",
    "non_smokers_dataset[\"TMB_Mutation_Interaction\"] = non_smokers_dataset[\"TMB (nonsynonymous)\"] * non_smokers_dataset[\"Mutation Count\"]"
   ]
  },
  {
   "cell_type": "markdown",
   "id": "4dd3863f-2810-4fe1-9d37-55480a965248",
   "metadata": {},
   "source": [
    "**PCA**"
   ]
  },
  {
   "cell_type": "code",
   "execution_count": null,
   "id": "e7857a0f-af24-4f65-a2aa-b61b416c4a65",
   "metadata": {},
   "outputs": [],
   "source": [
    "# Apply PCA to genetic features\n",
    "genetic_features_pca = [\"TMB (nonsynonymous)\", \"Mutation Count\", \"Fraction Genome Altered\", \"Mutation Rate\"]\n",
    "pca = PCA(n_components=2)\n",
    "pca_transformed = pca.fit_transform(non_smokers_dataset[genetic_features_pca])\n",
    "non_smokers_dataset[\"PCA_1\"] = pca_transformed[:, 0]\n",
    "non_smokers_dataset[\"PCA_2\"] = pca_transformed[:, 1]\n"
   ]
  },
  {
   "cell_type": "markdown",
   "id": "d38e25c4-4cc0-4d20-b5a2-6115bf6713af",
   "metadata": {},
   "source": [
    "**Cluster Genetic features**"
   ]
  },
  {
   "cell_type": "code",
   "execution_count": null,
   "id": "2c175161-edaf-4727-94fc-0820ec7e9f0a",
   "metadata": {},
   "outputs": [],
   "source": [
    "kmeans = KMeans(n_clusters=2, random_state=0, n_init=10)\n",
    "non_smokers_dataset[\"Genetic_Cluster\"] = kmeans.fit_predict(non_smokers_dataset[genetic_features_pca])"
   ]
  },
  {
   "cell_type": "code",
   "execution_count": null,
   "id": "cafebd5b-4ff5-429c-beae-42b372fef247",
   "metadata": {},
   "outputs": [],
   "source": [
    "# Final feature set\n",
    "enhanced_features = [\n",
    "    \"Fraction Genome Altered\", \"Mutation Count\", \"Mutation Rate\", \"Sex\", \"Diagnosis Age\",\n",
    "    \"Mutation_FGA_Interaction\", \"TMB_Mutation_Interaction\", \"PCA_1\", \"PCA_2\", \"Genetic_Cluster\", \"Cancer_Type_Encoded\"\n",
    "]"
   ]
  },
  {
   "cell_type": "markdown",
   "id": "2071e3fe-1f23-4ba4-803d-222ed0ced9bf",
   "metadata": {},
   "source": [
    "**Correlation matrix**"
   ]
  },
  {
   "cell_type": "code",
   "execution_count": null,
   "id": "5018dd3f-9fee-4a71-8668-e46cd4d897ab",
   "metadata": {},
   "outputs": [],
   "source": [
    "# Select only numeric columns\n",
    "numeric_df = non_smokers_dataset.select_dtypes(include=[\"number\"]).drop(columns=[\"Number of Samples Per Patient\"], errors=\"ignore\")\n",
    "\n",
    "# Compute correlation matrix\n",
    "corr_matrix = numeric_df.corr()\n",
    "\n",
    "# Create a heatmap\n",
    "plt.figure(figsize=(12, 8))\n",
    "sns.heatmap(corr_matrix, annot=True, cmap=\"coolwarm\", fmt=\".2f\", linewidths=0.5)\n",
    "\n",
    "# Title\n",
    "plt.title(\"Feature Correlation Matrix (Non-Smokers)\")\n",
    "plt.show()"
   ]
  },
  {
   "cell_type": "markdown",
   "id": "5d51f8d0-45f1-4a17-bb96-0c3027c70e74",
   "metadata": {},
   "source": [
    "**TRAINING THE SVM MODEL WITH RBF KERNEL**"
   ]
  },
  {
   "cell_type": "code",
   "execution_count": null,
   "id": "891da2b1-0adf-4c47-b3ed-ec084559e2db",
   "metadata": {},
   "outputs": [],
   "source": [
    "# Convert risk levels into categorical classes\n",
    "y_risk_class = non_smokers_dataset[\"Risk Level\"].map({0.0: 0, 0.5: 1, 1.0: 2})  # Mapping to class labels\n"
   ]
  },
  {
   "cell_type": "code",
   "execution_count": null,
   "id": "1111cdec-8e00-4b36-9593-06084d4fe7c5",
   "metadata": {},
   "outputs": [],
   "source": [
    "# Ensure all features are numeric\n",
    "X_risk_fixed = non_smokers_dataset[enhanced_features]\n",
    "X_risk_fixed = X_risk_fixed.loc[:, ~X_risk_fixed.columns.duplicated()]  # Remove duplicates if any"
   ]
  },
  {
   "cell_type": "code",
   "execution_count": null,
   "id": "f12f3ebb-ffce-4d93-9872-63bfbd1254f1",
   "metadata": {},
   "outputs": [],
   "source": [
    "# Split data again with 25% test size\n",
    "X_train_risk_class, X_test_risk_class, y_train_risk_class, y_test_risk_class = train_test_split(\n",
    "    X_risk_fixed, y_risk_class, test_size=0.3, random_state=0, stratify=y_risk_class\n",
    ")"
   ]
  },
  {
   "cell_type": "code",
   "execution_count": null,
   "id": "dfe63a00-744a-41bb-9f18-5bb298f6fe5c",
   "metadata": {},
   "outputs": [],
   "source": [
    "# Perform one-hot encoding\n",
    "X_train_risk_class = pd.get_dummies(X_train_risk_class, columns=['Sex'], drop_first=True)\n",
    "X_test_risk_class = pd.get_dummies(X_test_risk_class, columns=['Sex'], drop_first=True)"
   ]
  },
  {
   "cell_type": "code",
   "execution_count": null,
   "id": "41663041-2bfa-4de0-ae68-d8b308bcad3e",
   "metadata": {},
   "outputs": [],
   "source": [
    "# Standardize features\n",
    "scaler_risk_class = StandardScaler()\n",
    "X_train_scaled_risk_class = scaler_risk_class.fit_transform(X_train_risk_class)\n",
    "X_test_scaled_risk_class = scaler_risk_class.transform(X_test_risk_class)"
   ]
  },
  {
   "cell_type": "code",
   "execution_count": null,
   "id": "374b1935-7e24-478a-9054-e8289ba704db",
   "metadata": {},
   "outputs": [],
   "source": [
    "print(X_train_risk_class.dtypes)"
   ]
  },
  {
   "cell_type": "code",
   "execution_count": null,
   "id": "43e361bc-8eae-4c4c-b729-d9ffd343b0d3",
   "metadata": {},
   "outputs": [],
   "source": [
    "# Train SVM with RBF kernel for multi-class classification\n",
    "svm_risk_class_model = SVC(kernel=\"rbf\", C=1, gamma= \"scale\", probability=True, random_state=0)\n",
    "svm_risk_class_model.fit(X_train_scaled_risk_class, y_train_risk_class)"
   ]
  },
  {
   "cell_type": "code",
   "execution_count": null,
   "id": "e87a47af-3de6-44b1-9cd5-0a9b7479cb79",
   "metadata": {},
   "outputs": [],
   "source": [
    "# Evaluate model performance\n",
    "train_acc_risk_class = svm_risk_class_model.score(X_train_scaled_risk_class, y_train_risk_class)\n",
    "test_acc_risk_class = svm_risk_class_model.score(X_test_scaled_risk_class, y_test_risk_class)\n"
   ]
  },
  {
   "cell_type": "code",
   "execution_count": null,
   "id": "97b13d59-a41b-4638-b248-37e021e0cd08",
   "metadata": {},
   "outputs": [],
   "source": [
    "# Output results\n",
    "(train_acc_risk_class, test_acc_risk_class)"
   ]
  },
  {
   "cell_type": "code",
   "execution_count": null,
   "id": "5d8e191e-9941-41c7-9039-e31c4ac8727b",
   "metadata": {},
   "outputs": [],
   "source": [
    "# Make predictions on the entire test set\n",
    "y_pred = svm_risk_class_model.predict(X_test_scaled_risk_class)\n",
    "\n",
    "# Compare predicted vs. actual risk levels\n",
    "comparison_df = pd.DataFrame({\n",
    "    \"Actual Risk Level\": y_test_risk_class.values,\n",
    "    \"Predicted Risk Level\": y_pred\n",
    "})\n",
    "\n",
    "# Display the first few comparisons\n",
    "print(comparison_df.head())\n",
    "print(comparison_df.info())\n",
    "\n",
    "# Calculate accuracy\n",
    "accuracy = (comparison_df[\"Actual Risk Level\"] == comparison_df[\"Predicted Risk Level\"]).mean()\n",
    "print(f\"Model Accuracy on Test Set: {accuracy:.2%}\")\n"
   ]
  },
  {
   "cell_type": "code",
   "execution_count": null,
   "id": "a0608f8f-cd6c-4c16-b783-dad27a759468",
   "metadata": {},
   "outputs": [],
   "source": [
    "# Select the first row from the test set\n",
    "instance_1 = X_test_risk_class.iloc[[0]]  # First row (index 0)\n",
    "actual_risk_1 = y_test_risk_class.iloc[0]  # Actual risk level\n",
    "\n",
    "# Standardize the instance using the same scaler\n",
    "instance_1_scaled = scaler_risk_class.transform(instance_1)\n",
    "\n",
    "# Make prediction\n",
    "predicted_risk_1 = svm_risk_class_model.predict(instance_1_scaled)\n",
    "\n",
    "\n",
    "# Display the results\n",
    "print(f\"Row 1 - Actual Risk Level: {actual_risk_1}\")\n",
    "print(f\"Row 1 - Predicted Risk Level: {predicted_risk_1[0]}\")\n",
    "\n"
   ]
  },
  {
   "cell_type": "markdown",
   "id": "4542d00e-a7d6-4894-8910-eb08799d2c50",
   "metadata": {},
   "source": [
    "**Classification Report**"
   ]
  },
  {
   "cell_type": "code",
   "execution_count": null,
   "id": "94dffed4-c8ef-4582-b62a-a1f3c9c67967",
   "metadata": {},
   "outputs": [],
   "source": [
    "from sklearn.metrics import classification_report\n",
    "\n",
    "# Generate classification report\n",
    "print(classification_report(y_test_risk_class, y_pred))"
   ]
  },
  {
   "cell_type": "code",
   "execution_count": null,
   "id": "97ac6cd5-13a4-4b4f-a95f-ac71300b12a7",
   "metadata": {},
   "outputs": [],
   "source": [
    "from sklearn.metrics import confusion_matrix\n",
    "\n",
    "# Compute confusion matrix\n",
    "cm = confusion_matrix(y_test_risk_class, y_pred)\n",
    "\n",
    "# Plot heatmap\n",
    "plt.figure(figsize=(6, 4))\n",
    "sns.heatmap(cm, annot=True, fmt=\"d\", cmap=\"coolwarm\", xticklabels=[\"Low\", \"Medium\", \"High\"], yticklabels=[\"Low\", \"Medium\", \"High\"])\n",
    "plt.xlabel(\"Predicted Risk Level\")\n",
    "plt.ylabel(\"Actual Risk Level\")\n",
    "plt.title(\"Confusion Matrix - SVM Model\")\n",
    "plt.show()\n"
   ]
  },
  {
   "cell_type": "code",
   "execution_count": null,
   "id": "88e9865d-a767-46ab-b80b-f99c8c26d103",
   "metadata": {},
   "outputs": [],
   "source": [
    "import joblib  \n",
    "\n",
    "joblib.dump(svm_risk_class_model, \"svm_lung_cancer_in_non_smokers_model.pkl\")\n",
    "\n",
    "print(\"Model saved successfully!\")"
   ]
  }
 ],
 "metadata": {
  "kernelspec": {
   "display_name": "Python 3",
   "language": "python",
   "name": "python3"
  },
  "language_info": {
   "codemirror_mode": {
    "name": "ipython",
    "version": 3
   },
   "file_extension": ".py",
   "mimetype": "text/x-python",
   "name": "python",
   "nbconvert_exporter": "python",
   "pygments_lexer": "ipython3",
   "version": "3.12.1"
  }
 },
 "nbformat": 4,
 "nbformat_minor": 5
}
